{
  "nbformat": 4,
  "nbformat_minor": 0,
  "metadata": {
    "colab": {
      "provenance": []
    },
    "kernelspec": {
      "name": "python3",
      "display_name": "Python 3"
    },
    "language_info": {
      "name": "python"
    }
  },
  "cells": [
    {
      "cell_type": "markdown",
      "source": [
        "# Basic Hours calculator\n",
        "\n",
        "## A calculator that calulates the amount of hours you have worked for however many working days you want based on the inputs of:\n",
        " *   ### Start time\n",
        " *   ### End time\n",
        " *   ### Lunch start time\n",
        " *   ### Lunch end time\n",
        "\n",
        "Essentialy it calculates the difference between the end time and start time on each day and subtracts the difference between the lunch start time and end time\n",
        "It does this for each day is input and add the totals of the hours for a cumalutive total of hours worked across the days. It can also tell the average hours per day and if you input how many hours you should be working per day/week, the overtime/undertime based on those hours. In a future extension, the pay may be added as well so you can see how much pay you should be receiving for those hours based on either the pay per hour, day, week, month or year.\n",
        "\n",
        "This is version 1 which is just purely based on the console, command-line interface and is just for testing the basic functionalities of the application before extra functionalities can be added and it can be adapted to host a graphical user interface.\n",
        "\n",
        "\n",
        "\n"
      ],
      "metadata": {
        "id": "CykyDkaCUuNB"
      }
    },
    {
      "cell_type": "markdown",
      "source": [
        "\n",
        "> Basic imports first"
      ],
      "metadata": {
        "id": "C9Za5IS1XI6w"
      }
    },
    {
      "cell_type": "code",
      "execution_count": null,
      "metadata": {
        "id": "jVJ0TFYfTI8c"
      },
      "outputs": [],
      "source": [
        "from datetime import datetime"
      ]
    },
    {
      "cell_type": "markdown",
      "source": [
        "> Core functionality, taking inputs and calling functions"
      ],
      "metadata": {
        "id": "y8YSTIvTXZsd"
      }
    },
    {
      "cell_type": "code",
      "source": [
        "dayNum = 1\n",
        "totalHours = 0\n",
        "contractedHours = int(input(\"Enter how many hours you should be working: \"))\n",
        "print(\"Is this either in:\")\n",
        "print(\"1. Hours per day\")\n",
        "print(\"2. Hours per week\")\n",
        "perDayOrPerWeek = int(input(\"Enter either 1 or 2: \"))\n",
        "hoursPerDay = 0\n",
        "if perDayOrPerWeek == 1:\n",
        "  hoursPerDay = contractedHours\n",
        "elif perDayOrPerWeek == 2:\n",
        "  hoursPerDay = contractedHours / 5\n",
        "\n",
        "while True:\n",
        "  print(\"Day \"+str(dayNum)+\" :\")\n",
        "  startTime = input(\"Enter start time in 24 hour format (HH.MM): \")\n",
        "  endTime = input(\"Enter end time in 24 hour format (HH.MM): \")\n",
        "  lunchStart = input(\"Enter start time for lunch in 24 hour format (HH.MM): \")\n",
        "  lunchEnd = input(\"Enter end time for lunch in 24 hour format (HH.MM): \")\n",
        "  convertedST, convertedET, convertedLS, convertedLE = convertTimes(startTime, endTime, lunchStart, lunchEnd)\n",
        "  hours = calculateHours(convertedST, convertedET, convertedLS, convertedLE)\n",
        "  totalHours += hours\n",
        "  outputHours(dayNum, hours, totalHours)\n",
        "  addMoreDays = input(\"Do you want to add more days (Y/N): \")\n",
        "  if addMoreDays.upper() == \"N\":\n",
        "    break\n",
        "  else:\n",
        "    dayNum += 1\n",
        "\n",
        "print(\"In total you worked \"+str(round(totalHours, 2))+\" hours in \"+str(dayNum)+\" days\")\n",
        "print(\"The average hours per day was about \"+str(round((totalHours / dayNum), 0))+\" hours\")\n",
        "hoursDifference, minutesDifference, overtime = calculateOvertimeUndertime(totalHours, dayNum, hoursPerDay)\n",
        "\n",
        "if not overtime:\n",
        "  keyword = \"undertime\"\n",
        "else:\n",
        "  keyword = \"overtime\"\n",
        "\n",
        "print(\"Currently, you have done \"+str(hoursDifference)+\" hours and \"+str(minutesDifference)+\" minutes\",keyword)"
      ],
      "metadata": {
        "id": "xXPxlBVvXlB2"
      },
      "execution_count": null,
      "outputs": []
    },
    {
      "cell_type": "markdown",
      "source": [
        "> Below is the function that takes the times entered as integers and converts them to actual datetime objects"
      ],
      "metadata": {
        "id": "3OsXgG8NZhQ0"
      }
    },
    {
      "cell_type": "code",
      "source": [
        "def convertTimes(startTime, endTime, lunchStart, lunchEnd):\n",
        "  newST = datetime.strptime(startTime, \"%H.%M\")\n",
        "  newET = datetime.strptime(endTime, \"%H.%M\")\n",
        "  newLS = datetime.strptime(lunchStart, \"%H.%M\")\n",
        "  newLE = datetime.strptime(lunchEnd, \"%H.%M\")\n",
        "  return newST, newET, newLS, newLE"
      ],
      "metadata": {
        "id": "vjJ0raFiZ5RX"
      },
      "execution_count": null,
      "outputs": []
    },
    {
      "cell_type": "markdown",
      "source": [
        "> Below is the function that takes the converted times and works out the time difference in hours"
      ],
      "metadata": {
        "id": "8kWqvr82bpz-"
      }
    },
    {
      "cell_type": "code",
      "source": [
        "def calculateHours(convertedST, convertedET, convertedLS, convertedLE):\n",
        "  dayDifference = convertedET - convertedST\n",
        "  breakTime = convertedLE - convertedLS\n",
        "  dayHours = dayDifference.total_seconds() / 3600\n",
        "  breakHours = breakTime.total_seconds() / 3600\n",
        "  hours = dayHours - breakHours\n",
        "  return hours"
      ],
      "metadata": {
        "id": "-Ir8bsOlgnxO"
      },
      "execution_count": null,
      "outputs": []
    },
    {
      "cell_type": "markdown",
      "source": [
        "> Below is the function that outputs the hours"
      ],
      "metadata": {
        "id": "DOfrUf6WlrCr"
      }
    },
    {
      "cell_type": "code",
      "source": [
        "def outputHours(dayNum, hours, totalHours):\n",
        "  print(\"The hours worked on Day \"+str(dayNum)+\" (in decimal format):\")\n",
        "  print(round(hours, 2))\n",
        "  print(\"The total hours you have worked (so far) is:\")\n",
        "  print(totalHours)\n",
        "  altOutput = input(\"Do you wish to view the hours in hours and minutes format (Y/N)? \")\n",
        "  altHours = hours // 1\n",
        "  altMinutes = round((hours - altHours) * 60, 0)\n",
        "  altTotalHours = totalHours // 1\n",
        "  altTotalMinutes = round((totalHours - altTotalHours) * 60, 0)\n",
        "  print(altOutput.upper())\n",
        "  if altOutput.upper() == \"Y\":\n",
        "    print(\"The hours worked on Day \"+str(dayNum)+\" (in hours and minutes format):\")\n",
        "    print(str(altHours)+\" hours and \"+str(altMinutes)+\" minutes\")\n",
        "    print(\"The total hours you have worked (so far) is:\")\n",
        "    print(str(altTotalHours)+\" hours and \"+str(altTotalMinutes)+\" minutes\")"
      ],
      "metadata": {
        "id": "_GQTZRnEl2gj"
      },
      "execution_count": null,
      "outputs": []
    },
    {
      "cell_type": "markdown",
      "source": [
        "> Tests devised to test the various functions"
      ],
      "metadata": {
        "id": "Z7Obga2VqMbP"
      }
    },
    {
      "cell_type": "code",
      "source": [
        "# Example usage:\n",
        "startTime = \"08.30\"\n",
        "endTime = \"17.45\"\n",
        "lunchStart = \"12.30\"\n",
        "lunchEnd = \"13.30\"\n",
        "dayNum = 1\n",
        "totalHours = 0\n",
        "\n",
        "convertedST, convertedET, convertedLS, convertedLE = convertTimes(startTime, endTime, lunchStart, lunchEnd)\n",
        "print(convertedST, convertedET, convertedLS, convertedLE)\n",
        "hours = calculateHours(convertedST, convertedET, convertedLS, convertedLE)\n",
        "print(hours)\n",
        "totalHours += hours\n",
        "outputHours(dayNum, hours, totalHours)"
      ],
      "metadata": {
        "collapsed": true,
        "id": "cOH8_h9pqSa0"
      },
      "execution_count": null,
      "outputs": []
    },
    {
      "cell_type": "markdown",
      "source": [
        "> Below is the function that checks the total hours against how many hours the worker should be doing"
      ],
      "metadata": {
        "id": "jeMl4KXzC215"
      }
    },
    {
      "cell_type": "code",
      "source": [
        "def calculateOvertimeUndertime(totalHours, dayNum, hoursPerDay):\n",
        "  overtime = True\n",
        "  hours = totalHours - (hoursPerDay * dayNum)\n",
        "  absoluteHours = abs(hours)\n",
        "  justHours = absoluteHours // 1\n",
        "  justMinutes = round((absoluteHours - justHours) * 60, 0)\n",
        "  if hours < 0:\n",
        "    overtime = False\n",
        "  return justHours, justMinutes, overtime"
      ],
      "metadata": {
        "id": "CTFGq5OkDBUc"
      },
      "execution_count": null,
      "outputs": []
    }
  ]
}